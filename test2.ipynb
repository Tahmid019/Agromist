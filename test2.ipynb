{
 "cells": [
  {
   "cell_type": "code",
   "execution_count": 1,
   "id": "59875277",
   "metadata": {},
   "outputs": [],
   "source": [
    "import os\n",
    "import numpy as np\n",
    "import torch\n",
    "import torch.nn as nn\n",
    "import torch.optim as optim\n",
    "from torch.utils.data import Dataset, DataLoader\n",
    "from sklearn.model_selection import train_test_split\n",
    "from sklearn.metrics import accuracy_score, confusion_matrix\n",
    "import matplotlib.pyplot as plt"
   ]
  },
  {
   "cell_type": "code",
   "execution_count": 2,
   "id": "d70888df",
   "metadata": {},
   "outputs": [],
   "source": [
    "class HyperspectralDataset(Dataset):\n",
    "    def __init__(self, data_dir, transform=None):\n",
    "        self.data_dir = data_dir\n",
    "        self.transform = transform\n",
    "        self.class_labels = ['canola', 'soybean', 'sugarbeet', 'kochia', \n",
    "                           'common_ragweed', 'common_waterhemp', 'redroot_pigweed']\n",
    "        self.file_paths = []\n",
    "        self.labels = []\n",
    "        \n",
    "        # Collect all .npy files and their labels\n",
    "        for label_idx, label in enumerate(self.class_labels):\n",
    "            for i in range(1, 21):  # Assuming 20 samples per class\n",
    "                file_path = os.path.join(data_dir, f\"{label}_{i}.npy\")\n",
    "                if os.path.exists(file_path):\n",
    "                    self.file_paths.append(file_path)\n",
    "                    self.labels.append(label_idx)\n",
    "    \n",
    "    def __len__(self):\n",
    "        return len(self.file_paths)\n",
    "    \n",
    "    def __getitem__(self, idx):\n",
    "        # Load hyperspectral cube\n",
    "        cube = np.load(self.file_paths[idx])\n",
    "        \n",
    "        # Resize to (32, 32, 224)\n",
    "        cube = torch.tensor(cube, dtype=torch.float32).permute(2, 0, 1)  # (C, H, W)\n",
    "        cube = nn.functional.interpolate(cube.unsqueeze(0), size=(32, 32), mode='bilinear').squeeze(0)\n",
    "        \n",
    "        # Normalize\n",
    "        cube = (cube - cube.min()) / (cube.max() - cube.min())\n",
    "        \n",
    "        # Get label\n",
    "        label = torch.tensor(self.labels[idx], dtype=torch.long)\n",
    "        \n",
    "        return cube, label"
   ]
  },
  {
   "cell_type": "code",
   "execution_count": 3,
   "id": "1c72b572",
   "metadata": {},
   "outputs": [],
   "source": [
    "class HyperspectralCNN(nn.Module):\n",
    "    def __init__(self, num_classes):\n",
    "        super().__init__()\n",
    "        self.conv1 = nn.Conv3d(1, 32, kernel_size=(3, 3, 10), stride=1)\n",
    "        self.pool1 = nn.MaxPool3d(kernel_size=(2, 2, 2))\n",
    "        self.conv2 = nn.Conv3d(32, 64, kernel_size=(3, 3, 10), stride=1)\n",
    "        self.fc1 = nn.Linear(64 * 15 * 15 * 53, 128)  # Adjusted for input size\n",
    "        self.dropout = nn.Dropout(0.5)\n",
    "        self.fc2 = nn.Linear(128, num_classes)\n",
    "        \n",
    "    def forward(self, x):\n",
    "        x = x.unsqueeze(1)  # Add channel dim (B, 1, C, H, W)\n",
    "        x = self.pool1(torch.relu(self.conv1(x)))\n",
    "        x = torch.relu(self.conv2(x))\n",
    "        x = torch.flatten(x, 1)\n",
    "        x = torch.relu(self.fc1(x))\n",
    "        x = self.dropout(x)\n",
    "        x = self.fc2(x)\n",
    "        return x"
   ]
  },
  {
   "cell_type": "code",
   "execution_count": 4,
   "id": "7daa12e2",
   "metadata": {},
   "outputs": [],
   "source": [
    "def train_model(model, dataloaders, criterion, optimizer, num_epochs=25):\n",
    "    best_acc = 0.0\n",
    "    train_loss, val_acc = [], []\n",
    "    \n",
    "    for epoch in range(num_epochs):\n",
    "        print(f'Epoch {epoch+1}/{num_epochs}')\n",
    "        print('-' * 10)\n",
    "        \n",
    "        # Each epoch has training and validation phase\n",
    "        for phase in ['train', 'val']:\n",
    "            if phase == 'train':\n",
    "                model.train()\n",
    "            else:\n",
    "                model.eval()\n",
    "            \n",
    "            running_loss = 0.0\n",
    "            running_corrects = 0\n",
    "            \n",
    "            for inputs, labels in dataloaders[phase]:\n",
    "                inputs = inputs.to(device)\n",
    "                labels = labels.to(device)\n",
    "                \n",
    "                optimizer.zero_grad()\n",
    "                \n",
    "                with torch.set_grad_enabled(phase == 'train'):\n",
    "                    outputs = model(inputs)\n",
    "                    _, preds = torch.max(outputs, 1)\n",
    "                    loss = criterion(outputs, labels)\n",
    "                    \n",
    "                    if phase == 'train':\n",
    "                        loss.backward()\n",
    "                        optimizer.step()\n",
    "                \n",
    "                running_loss += loss.item() * inputs.size(0)\n",
    "                running_corrects += torch.sum(preds == labels.data)\n",
    "            \n",
    "            epoch_loss = running_loss / len(dataloaders[phase].dataset)\n",
    "            epoch_acc = running_corrects.double() / len(dataloaders[phase].dataset)\n",
    "            \n",
    "            if phase == 'train':\n",
    "                train_loss.append(epoch_loss)\n",
    "            else:\n",
    "                val_acc.append(epoch_acc)\n",
    "            \n",
    "            print(f'{phase} Loss: {epoch_loss:.4f} Acc: {epoch_acc:.4f}')\n",
    "    \n",
    "    return model, train_loss, val_acc"
   ]
  },
  {
   "cell_type": "code",
   "execution_count": 8,
   "id": "d3561e74",
   "metadata": {},
   "outputs": [],
   "source": [
    "device = torch.device(\"cuda:0\" if torch.cuda.is_available() else \"cpu\")\n",
    "    \n",
    "# Initialize dataset\n",
    "data_dir = \"Users/tahmi/Documents/Work/ETAAV/DataSet/kochia/kochia/kochia\"\n",
    "dataset = HyperspectralDataset(data_dir)"
   ]
  },
  {
   "cell_type": "code",
   "execution_count": 9,
   "id": "3f53122b",
   "metadata": {},
   "outputs": [
    {
     "ename": "ValueError",
     "evalue": "The dataset is empty. Please check the data_dir and ensure it contains the expected .npy files.",
     "output_type": "error",
     "traceback": [
      "\u001b[31m---------------------------------------------------------------------------\u001b[39m",
      "\u001b[31mValueError\u001b[39m                                Traceback (most recent call last)",
      "\u001b[36mCell\u001b[39m\u001b[36m \u001b[39m\u001b[32mIn[9]\u001b[39m\u001b[32m, line 3\u001b[39m\n\u001b[32m      1\u001b[39m \u001b[38;5;66;03m# Ensure the dataset is not empty\u001b[39;00m\n\u001b[32m      2\u001b[39m \u001b[38;5;28;01mif\u001b[39;00m \u001b[38;5;28mlen\u001b[39m(dataset) == \u001b[32m0\u001b[39m:\n\u001b[32m----> \u001b[39m\u001b[32m3\u001b[39m     \u001b[38;5;28;01mraise\u001b[39;00m \u001b[38;5;167;01mValueError\u001b[39;00m(\u001b[33m\"\u001b[39m\u001b[33mThe dataset is empty. Please check the data_dir and ensure it contains the expected .npy files.\u001b[39m\u001b[33m\"\u001b[39m)\n\u001b[32m      5\u001b[39m train_idx, val_idx = train_test_split(\n\u001b[32m      6\u001b[39m     np.arange(\u001b[38;5;28mlen\u001b[39m(dataset)), \n\u001b[32m      7\u001b[39m     test_size=\u001b[32m0.2\u001b[39m,\n\u001b[32m      8\u001b[39m     stratify=dataset.labels,\n\u001b[32m      9\u001b[39m     random_state=\u001b[32m42\u001b[39m\n\u001b[32m     10\u001b[39m )\n",
      "\u001b[31mValueError\u001b[39m: The dataset is empty. Please check the data_dir and ensure it contains the expected .npy files."
     ]
    }
   ],
   "source": [
    "# Ensure the dataset is not empty\n",
    "if len(dataset) == 0:\n",
    "    raise ValueError(\"The dataset is empty. Please check the data_dir and ensure it contains the expected .npy files.\")\n",
    "\n",
    "train_idx, val_idx = train_test_split(\n",
    "    np.arange(len(dataset)), \n",
    "    test_size=0.2,\n",
    "    stratify=dataset.labels,\n",
    "    random_state=42\n",
    ")"
   ]
  },
  {
   "cell_type": "code",
   "execution_count": null,
   "id": "86ed0759",
   "metadata": {},
   "outputs": [],
   "source": []
  }
 ],
 "metadata": {
  "kernelspec": {
   "display_name": ".venv",
   "language": "python",
   "name": "python3"
  },
  "language_info": {
   "codemirror_mode": {
    "name": "ipython",
    "version": 3
   },
   "file_extension": ".py",
   "mimetype": "text/x-python",
   "name": "python",
   "nbconvert_exporter": "python",
   "pygments_lexer": "ipython3",
   "version": "3.12.10"
  }
 },
 "nbformat": 4,
 "nbformat_minor": 5
}
