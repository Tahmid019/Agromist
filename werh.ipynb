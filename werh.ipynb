{
 "cells": [
  {
   "cell_type": "code",
   "execution_count": 3,
   "id": "13cf3492",
   "metadata": {},
   "outputs": [],
   "source": [
    "import turtle\n",
    "import random\n",
    "\n",
    "# Setup screen\n",
    "screen = turtle.Screen()\n",
    "screen.bgcolor(\"white\")\n",
    "screen.title(\"Gibberish We Are Hiring\")\n",
    "\n",
    "# Create turtle\n",
    "pen = turtle.Turtle()\n",
    "pen.hideturtle()\n",
    "pen.speed(2)  # Slow speed to see the writing process\n",
    "\n",
    "# Random gibberish function\n",
    "def gibberish_text():\n",
    "    gibberish = [\"Flop\", \"Bloop\", \"Zorp\", \"Ding\", \"Wop\", \"Plorp\", \"Zing\", \"Vroom\", \"Shmoo\"]\n",
    "    return random.choice(gibberish)\n",
    "\n",
    "# Write gibberish with the pen moving\n",
    "pen.penup()\n",
    "pen.goto(-200, 50)  # Start position\n",
    "pen.pendown()\n",
    "\n",
    "for letter in \"We Are Hiring\":\n",
    "    # Random gibberish for each letter\n",
    "    gibberish = gibberish_text()\n",
    "    pen.write(gibberish, align=\"left\", font=(\"Arial\", 24, \"normal\"))\n",
    "    pen.penup()\n",
    "    pen.forward(100)  # Move forward after writing each word\n",
    "    pen.pendown()\n",
    "\n",
    "# Keep the window open until clicked\n",
    "screen.exitonclick()\n"
   ]
  },
  {
   "cell_type": "code",
   "execution_count": null,
   "id": "3a7e35a9",
   "metadata": {},
   "outputs": [],
   "source": []
  }
 ],
 "metadata": {
  "kernelspec": {
   "display_name": ".venv",
   "language": "python",
   "name": "python3"
  },
  "language_info": {
   "codemirror_mode": {
    "name": "ipython",
    "version": 3
   },
   "file_extension": ".py",
   "mimetype": "text/x-python",
   "name": "python",
   "nbconvert_exporter": "python",
   "pygments_lexer": "ipython3",
   "version": "3.12.10"
  }
 },
 "nbformat": 4,
 "nbformat_minor": 5
}
