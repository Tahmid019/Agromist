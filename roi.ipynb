{
 "cells": [
  {
   "cell_type": "code",
   "execution_count": 11,
   "id": "8031d109",
   "metadata": {},
   "outputs": [
    {
     "name": "stdout",
     "output_type": "stream",
     "text": [
      "Collecting opencv-python\n",
      "  Downloading opencv_python-4.11.0.86-cp37-abi3-win_amd64.whl.metadata (20 kB)\n",
      "Requirement already satisfied: numpy>=1.21.2 in c:\\users\\tahmi\\documents\\work\\etaav\\dataset\\.venv\\lib\\site-packages (from opencv-python) (2.2.5)\n",
      "Downloading opencv_python-4.11.0.86-cp37-abi3-win_amd64.whl (39.5 MB)\n",
      "   ---------------------------------------- 0.0/39.5 MB ? eta -:--:--\n",
      "    --------------------------------------- 0.5/39.5 MB 8.5 MB/s eta 0:00:05\n",
      "   -- ------------------------------------- 2.6/39.5 MB 7.2 MB/s eta 0:00:06\n",
      "   ---- ----------------------------------- 4.2/39.5 MB 7.4 MB/s eta 0:00:05\n",
      "   ----- ---------------------------------- 5.8/39.5 MB 7.5 MB/s eta 0:00:05\n",
      "   ------ --------------------------------- 6.6/39.5 MB 6.8 MB/s eta 0:00:05\n",
      "   ------- -------------------------------- 7.6/39.5 MB 6.4 MB/s eta 0:00:05\n",
      "   -------- ------------------------------- 8.4/39.5 MB 6.0 MB/s eta 0:00:06\n",
      "   --------- ------------------------------ 8.9/39.5 MB 5.6 MB/s eta 0:00:06\n",
      "   --------- ------------------------------ 9.4/39.5 MB 5.3 MB/s eta 0:00:06\n",
      "   ---------- ----------------------------- 10.2/39.5 MB 5.1 MB/s eta 0:00:06\n",
      "   ---------- ----------------------------- 10.7/39.5 MB 5.0 MB/s eta 0:00:06\n",
      "   ----------- ---------------------------- 11.5/39.5 MB 4.7 MB/s eta 0:00:06\n",
      "   ------------ --------------------------- 12.3/39.5 MB 4.7 MB/s eta 0:00:06\n",
      "   ------------- -------------------------- 12.8/39.5 MB 4.5 MB/s eta 0:00:06\n",
      "   ------------- -------------------------- 13.4/39.5 MB 4.4 MB/s eta 0:00:06\n",
      "   -------------- ------------------------- 13.9/39.5 MB 4.3 MB/s eta 0:00:06\n",
      "   -------------- ------------------------- 14.7/39.5 MB 4.2 MB/s eta 0:00:06\n",
      "   --------------- ------------------------ 14.9/39.5 MB 4.1 MB/s eta 0:00:06\n",
      "   --------------- ------------------------ 15.5/39.5 MB 4.0 MB/s eta 0:00:06\n",
      "   ---------------- ----------------------- 16.0/39.5 MB 3.9 MB/s eta 0:00:06\n",
      "   ---------------- ----------------------- 16.5/39.5 MB 3.8 MB/s eta 0:00:06\n",
      "   ----------------- ---------------------- 17.0/39.5 MB 3.8 MB/s eta 0:00:06\n",
      "   ----------------- ---------------------- 17.6/39.5 MB 3.7 MB/s eta 0:00:06\n",
      "   ------------------ --------------------- 18.1/39.5 MB 3.6 MB/s eta 0:00:06\n",
      "   ------------------ --------------------- 18.6/39.5 MB 3.6 MB/s eta 0:00:06\n",
      "   ------------------- -------------------- 18.9/39.5 MB 3.6 MB/s eta 0:00:06\n",
      "   ------------------- -------------------- 19.4/39.5 MB 3.5 MB/s eta 0:00:06\n",
      "   ------------------- -------------------- 19.7/39.5 MB 3.5 MB/s eta 0:00:06\n",
      "   -------------------- ------------------- 20.2/39.5 MB 3.4 MB/s eta 0:00:06\n",
      "   -------------------- ------------------- 20.4/39.5 MB 3.3 MB/s eta 0:00:06\n",
      "   --------------------- ------------------ 21.0/39.5 MB 3.3 MB/s eta 0:00:06\n",
      "   --------------------- ------------------ 21.5/39.5 MB 3.2 MB/s eta 0:00:06\n",
      "   ---------------------- ----------------- 21.8/39.5 MB 3.2 MB/s eta 0:00:06\n",
      "   ---------------------- ----------------- 22.3/39.5 MB 3.2 MB/s eta 0:00:06\n",
      "   ----------------------- ---------------- 22.8/39.5 MB 3.2 MB/s eta 0:00:06\n",
      "   ----------------------- ---------------- 23.3/39.5 MB 3.1 MB/s eta 0:00:06\n",
      "   ------------------------ --------------- 23.9/39.5 MB 3.1 MB/s eta 0:00:05\n",
      "   ------------------------ --------------- 24.4/39.5 MB 3.1 MB/s eta 0:00:05\n",
      "   ------------------------- -------------- 24.9/39.5 MB 3.1 MB/s eta 0:00:05\n",
      "   ------------------------- -------------- 25.4/39.5 MB 3.1 MB/s eta 0:00:05\n",
      "   -------------------------- ------------- 25.7/39.5 MB 3.1 MB/s eta 0:00:05\n",
      "   -------------------------- ------------- 26.2/39.5 MB 3.0 MB/s eta 0:00:05\n",
      "   --------------------------- ------------ 26.7/39.5 MB 3.0 MB/s eta 0:00:05\n",
      "   --------------------------- ------------ 27.3/39.5 MB 3.0 MB/s eta 0:00:05\n",
      "   ---------------------------- ----------- 27.8/39.5 MB 3.0 MB/s eta 0:00:04\n",
      "   ---------------------------- ----------- 28.0/39.5 MB 3.0 MB/s eta 0:00:04\n",
      "   ---------------------------- ----------- 28.6/39.5 MB 3.0 MB/s eta 0:00:04\n",
      "   ----------------------------- ---------- 28.8/39.5 MB 2.9 MB/s eta 0:00:04\n",
      "   ----------------------------- ---------- 29.4/39.5 MB 2.9 MB/s eta 0:00:04\n",
      "   ------------------------------ --------- 29.9/39.5 MB 2.9 MB/s eta 0:00:04\n",
      "   ------------------------------ --------- 30.4/39.5 MB 2.9 MB/s eta 0:00:04\n",
      "   ------------------------------- -------- 30.9/39.5 MB 2.9 MB/s eta 0:00:03\n",
      "   ------------------------------- -------- 31.5/39.5 MB 2.9 MB/s eta 0:00:03\n",
      "   -------------------------------- ------- 32.0/39.5 MB 2.9 MB/s eta 0:00:03\n",
      "   --------------------------------- ------ 32.8/39.5 MB 2.9 MB/s eta 0:00:03\n",
      "   --------------------------------- ------ 33.3/39.5 MB 2.9 MB/s eta 0:00:03\n",
      "   ---------------------------------- ----- 33.8/39.5 MB 2.9 MB/s eta 0:00:02\n",
      "   ---------------------------------- ----- 34.3/39.5 MB 2.9 MB/s eta 0:00:02\n",
      "   ----------------------------------- ---- 34.9/39.5 MB 2.9 MB/s eta 0:00:02\n",
      "   ----------------------------------- ---- 35.4/39.5 MB 2.9 MB/s eta 0:00:02\n",
      "   ------------------------------------ --- 35.9/39.5 MB 2.9 MB/s eta 0:00:02\n",
      "   ------------------------------------ --- 36.4/39.5 MB 2.9 MB/s eta 0:00:02\n",
      "   ------------------------------------- -- 37.0/39.5 MB 2.9 MB/s eta 0:00:01\n",
      "   ------------------------------------- -- 37.5/39.5 MB 2.8 MB/s eta 0:00:01\n",
      "   -------------------------------------- - 38.0/39.5 MB 2.8 MB/s eta 0:00:01\n",
      "   -------------------------------------- - 38.3/39.5 MB 2.8 MB/s eta 0:00:01\n",
      "   ---------------------------------------  38.8/39.5 MB 2.8 MB/s eta 0:00:01\n",
      "   ---------------------------------------  39.3/39.5 MB 2.8 MB/s eta 0:00:01\n",
      "   ---------------------------------------- 39.5/39.5 MB 2.8 MB/s eta 0:00:00\n",
      "Installing collected packages: opencv-python\n",
      "Successfully installed opencv-python-4.11.0.86\n"
     ]
    }
   ],
   "source": [
    "!pip install opencv-python"
   ]
  },
  {
   "cell_type": "code",
   "execution_count": 13,
   "id": "b3530307",
   "metadata": {},
   "outputs": [
    {
     "name": "stdout",
     "output_type": "stream",
     "text": [
      "Collecting scikit-image\n",
      "  Downloading scikit_image-0.25.2-cp312-cp312-win_amd64.whl.metadata (14 kB)\n",
      "Requirement already satisfied: numpy>=1.24 in c:\\users\\tahmi\\documents\\work\\etaav\\dataset\\.venv\\lib\\site-packages (from scikit-image) (2.2.5)\n",
      "Requirement already satisfied: scipy>=1.11.4 in c:\\users\\tahmi\\documents\\work\\etaav\\dataset\\.venv\\lib\\site-packages (from scikit-image) (1.15.3)\n",
      "Requirement already satisfied: networkx>=3.0 in c:\\users\\tahmi\\documents\\work\\etaav\\dataset\\.venv\\lib\\site-packages (from scikit-image) (3.4.2)\n",
      "Requirement already satisfied: pillow>=10.1 in c:\\users\\tahmi\\documents\\work\\etaav\\dataset\\.venv\\lib\\site-packages (from scikit-image) (11.2.1)\n",
      "Collecting imageio!=2.35.0,>=2.33 (from scikit-image)\n",
      "  Downloading imageio-2.37.0-py3-none-any.whl.metadata (5.2 kB)\n",
      "Collecting tifffile>=2022.8.12 (from scikit-image)\n",
      "  Downloading tifffile-2025.5.10-py3-none-any.whl.metadata (31 kB)\n",
      "Requirement already satisfied: packaging>=21 in c:\\users\\tahmi\\documents\\work\\etaav\\dataset\\.venv\\lib\\site-packages (from scikit-image) (25.0)\n",
      "Collecting lazy-loader>=0.4 (from scikit-image)\n",
      "  Using cached lazy_loader-0.4-py3-none-any.whl.metadata (7.6 kB)\n",
      "Downloading scikit_image-0.25.2-cp312-cp312-win_amd64.whl (12.9 MB)\n",
      "   ---------------------------------------- 0.0/12.9 MB ? eta -:--:--\n",
      "   ---- ----------------------------------- 1.3/12.9 MB 9.6 MB/s eta 0:00:02\n",
      "   -------- ------------------------------- 2.9/12.9 MB 8.9 MB/s eta 0:00:02\n",
      "   ------------ --------------------------- 3.9/12.9 MB 8.7 MB/s eta 0:00:02\n",
      "   ------------------- -------------------- 6.3/12.9 MB 8.2 MB/s eta 0:00:01\n",
      "   ------------------------ --------------- 7.9/12.9 MB 8.1 MB/s eta 0:00:01\n",
      "   ---------------------------- ----------- 9.2/12.9 MB 8.2 MB/s eta 0:00:01\n",
      "   ---------------------------------- ----- 11.3/12.9 MB 8.1 MB/s eta 0:00:01\n",
      "   ---------------------------------------- 12.9/12.9 MB 8.0 MB/s eta 0:00:00\n",
      "Downloading imageio-2.37.0-py3-none-any.whl (315 kB)\n",
      "Using cached lazy_loader-0.4-py3-none-any.whl (12 kB)\n",
      "Downloading tifffile-2025.5.10-py3-none-any.whl (226 kB)\n",
      "Installing collected packages: tifffile, lazy-loader, imageio, scikit-image\n",
      "\n",
      "   ---------------------------------------- 0/4 [tifffile]\n",
      "   ---------------------------------------- 0/4 [tifffile]\n",
      "   ---------------------------------------- 0/4 [tifffile]\n",
      "   ---------------------------------------- 0/4 [tifffile]\n",
      "   ---------------------------------------- 0/4 [tifffile]\n",
      "   -------------------- ------------------- 2/4 [imageio]\n",
      "   -------------------- ------------------- 2/4 [imageio]\n",
      "   -------------------- ------------------- 2/4 [imageio]\n",
      "   -------------------- ------------------- 2/4 [imageio]\n",
      "   -------------------- ------------------- 2/4 [imageio]\n",
      "   -------------------- ------------------- 2/4 [imageio]\n",
      "   -------------------- ------------------- 2/4 [imageio]\n",
      "   -------------------- ------------------- 2/4 [imageio]\n",
      "   ------------------------------ --------- 3/4 [scikit-image]\n",
      "   ------------------------------ --------- 3/4 [scikit-image]\n",
      "   ------------------------------ --------- 3/4 [scikit-image]\n",
      "   ------------------------------ --------- 3/4 [scikit-image]\n",
      "   ------------------------------ --------- 3/4 [scikit-image]\n",
      "   ------------------------------ --------- 3/4 [scikit-image]\n",
      "   ------------------------------ --------- 3/4 [scikit-image]\n",
      "   ------------------------------ --------- 3/4 [scikit-image]\n",
      "   ------------------------------ --------- 3/4 [scikit-image]\n",
      "   ------------------------------ --------- 3/4 [scikit-image]\n",
      "   ------------------------------ --------- 3/4 [scikit-image]\n",
      "   ------------------------------ --------- 3/4 [scikit-image]\n",
      "   ------------------------------ --------- 3/4 [scikit-image]\n",
      "   ------------------------------ --------- 3/4 [scikit-image]\n",
      "   ------------------------------ --------- 3/4 [scikit-image]\n",
      "   ------------------------------ --------- 3/4 [scikit-image]\n",
      "   ------------------------------ --------- 3/4 [scikit-image]\n",
      "   ------------------------------ --------- 3/4 [scikit-image]\n",
      "   ------------------------------ --------- 3/4 [scikit-image]\n",
      "   ------------------------------ --------- 3/4 [scikit-image]\n",
      "   ------------------------------ --------- 3/4 [scikit-image]\n",
      "   ------------------------------ --------- 3/4 [scikit-image]\n",
      "   ------------------------------ --------- 3/4 [scikit-image]\n",
      "   ------------------------------ --------- 3/4 [scikit-image]\n",
      "   ------------------------------ --------- 3/4 [scikit-image]\n",
      "   ------------------------------ --------- 3/4 [scikit-image]\n",
      "   ------------------------------ --------- 3/4 [scikit-image]\n",
      "   ------------------------------ --------- 3/4 [scikit-image]\n",
      "   ------------------------------ --------- 3/4 [scikit-image]\n",
      "   ------------------------------ --------- 3/4 [scikit-image]\n",
      "   ------------------------------ --------- 3/4 [scikit-image]\n",
      "   ------------------------------ --------- 3/4 [scikit-image]\n",
      "   ------------------------------ --------- 3/4 [scikit-image]\n",
      "   ------------------------------ --------- 3/4 [scikit-image]\n",
      "   ------------------------------ --------- 3/4 [scikit-image]\n",
      "   ------------------------------ --------- 3/4 [scikit-image]\n",
      "   ------------------------------ --------- 3/4 [scikit-image]\n",
      "   ------------------------------ --------- 3/4 [scikit-image]\n",
      "   ------------------------------ --------- 3/4 [scikit-image]\n",
      "   ---------------------------------------- 4/4 [scikit-image]\n",
      "\n",
      "Successfully installed imageio-2.37.0 lazy-loader-0.4 scikit-image-0.25.2 tifffile-2025.5.10\n"
     ]
    }
   ],
   "source": [
    "!pip install scikit-image"
   ]
  },
  {
   "cell_type": "code",
   "execution_count": 1,
   "id": "b4fe4f79",
   "metadata": {},
   "outputs": [],
   "source": [
    "import os\n",
    "import numpy as np\n",
    "import pandas as pd\n",
    "from glob import glob\n"
   ]
  },
  {
   "cell_type": "markdown",
   "id": "1b846ada",
   "metadata": {},
   "source": [
    "Pytorch Core"
   ]
  },
  {
   "cell_type": "code",
   "execution_count": 2,
   "id": "42de407f",
   "metadata": {},
   "outputs": [],
   "source": [
    "import torch\n",
    "import torch.nn as nn\n",
    "import torch.nn.functional as F\n",
    "from torch.utils.data import Dataset, DataLoader, random_split\n"
   ]
  },
  {
   "cell_type": "markdown",
   "id": "6aeaf352",
   "metadata": {},
   "source": [
    "Data Aug and processing"
   ]
  },
  {
   "cell_type": "code",
   "execution_count": 3,
   "id": "22cadee2",
   "metadata": {},
   "outputs": [],
   "source": [
    "from sklearn.preprocessing import StandardScaler\n",
    "from scipy.signal import savgol_filter\n",
    "from sklearn.decomposition import PCA\n",
    "from sklearn.model_selection import train_test_split\n"
   ]
  },
  {
   "cell_type": "markdown",
   "id": "0a8edf56",
   "metadata": {},
   "source": [
    "Eval Matrix"
   ]
  },
  {
   "cell_type": "code",
   "execution_count": 4,
   "id": "76567c2d",
   "metadata": {},
   "outputs": [],
   "source": [
    "from sklearn.metrics import mean_squared_error, mean_absolute_error, r2_score\n",
    "from sklearn.metrics import accuracy_score, f1_score, confusion_matrix\n"
   ]
  },
  {
   "cell_type": "markdown",
   "id": "9d211e78",
   "metadata": {},
   "source": [
    "Viz"
   ]
  },
  {
   "cell_type": "code",
   "execution_count": 5,
   "id": "9cd4b71e",
   "metadata": {},
   "outputs": [],
   "source": [
    "import matplotlib.pyplot as plt\n",
    "import seaborn as sns\n",
    "from sklearn.manifold import TSNE\n",
    "import umap\n",
    "\n",
    "import random\n"
   ]
  },
  {
   "cell_type": "code",
   "execution_count": 14,
   "id": "7f0f2f51",
   "metadata": {},
   "outputs": [],
   "source": [
    "import re\n",
    "import cv2\n",
    "import csv\n",
    "from skimage.color import rgb2gray"
   ]
  },
  {
   "cell_type": "code",
   "execution_count": 16,
   "id": "69bd81b9",
   "metadata": {},
   "outputs": [],
   "source": [
    "dir_path = \"/Users/tahmi/Documents/Work/ETAAV/DataSet/kochia/kochia\""
   ]
  },
  {
   "cell_type": "markdown",
   "id": "8cbad3bb",
   "metadata": {},
   "source": [
    "# POI selection"
   ]
  },
  {
   "cell_type": "code",
   "execution_count": 20,
   "id": "5c4a1e36",
   "metadata": {},
   "outputs": [
    {
     "name": "stderr",
     "output_type": "stream",
     "text": [
      "<>:6: SyntaxWarning: invalid escape sequence '\\d'\n",
      "<>:6: SyntaxWarning: invalid escape sequence '\\d'\n",
      "C:\\Users\\tahmi\\AppData\\Local\\Temp\\ipykernel_2044\\3029253949.py:6: SyntaxWarning: invalid escape sequence '\\d'\n",
      "  s = re.findall(\"\\d+\",f)\n"
     ]
    },
    {
     "ename": "KeyboardInterrupt",
     "evalue": "",
     "output_type": "error",
     "traceback": [
      "\u001b[31m---------------------------------------------------------------------------\u001b[39m",
      "\u001b[31mKeyboardInterrupt\u001b[39m                         Traceback (most recent call last)",
      "\u001b[36mCell\u001b[39m\u001b[36m \u001b[39m\u001b[32mIn[20]\u001b[39m\u001b[32m, line 53\u001b[39m\n\u001b[32m     50\u001b[39m \u001b[38;5;28;01mwhile\u001b[39;00m \u001b[38;5;28;01mTrue\u001b[39;00m:\n\u001b[32m     51\u001b[39m     \u001b[38;5;66;03m# display the image and wait for a keypress\u001b[39;00m\n\u001b[32m     52\u001b[39m     cv2.imshow(\u001b[33m\"\u001b[39m\u001b[33mimage\u001b[39m\u001b[33m\"\u001b[39m, image)\n\u001b[32m---> \u001b[39m\u001b[32m53\u001b[39m     key = \u001b[43mcv2\u001b[49m\u001b[43m.\u001b[49m\u001b[43mwaitKey\u001b[49m\u001b[43m(\u001b[49m\u001b[32;43m1\u001b[39;49m\u001b[43m)\u001b[49m & \u001b[32m0xFF\u001b[39m\n\u001b[32m     55\u001b[39m     \u001b[38;5;66;03m# if the 'r' key is pressed, reset the points\u001b[39;00m\n\u001b[32m     56\u001b[39m     \u001b[38;5;28;01mif\u001b[39;00m key == \u001b[38;5;28mord\u001b[39m(\u001b[33m\"\u001b[39m\u001b[33mr\u001b[39m\u001b[33m\"\u001b[39m):\n",
      "\u001b[31mKeyboardInterrupt\u001b[39m: "
     ]
    }
   ],
   "source": [
    "# Create a list of .npy files in the directory\n",
    "npy_files = glob(dir_path + '/*.npy')\n",
    "\n",
    "# Function to extract numbers from the file name\n",
    "def extract_number(f):\n",
    "    s = re.findall(\"\\d+\",f)\n",
    "    return (int(s[0]) if s else -1,f)\n",
    "\n",
    "# Sort the list of .npy files in numerical order\n",
    "npy_files = sorted(npy_files, key=extract_number)\n",
    "\n",
    "nm_mapping = {397.66: 0.0, 400.28: 1.0, 402.9: 2.0, 405.52: 3.0, 408.13: 4.0, 410.75: 5.0, 413.37: 6.0, 416.0: 7.0, 418.62: 8.0, 421.24: 9.0, 423.86: 10.0, 426.49: 11.0, 429.12: 12.0, 431.74: 13.0, 434.37: 14.0, 437.0: 15.0, 439.63: 16.0, 442.26: 17.0, 444.89: 18.0, 447.52: 19.0, 450.16: 20.0, 452.79: 21.0, 455.43: 22.0, 458.06: 23.0, 460.7: 24.0, 463.34: 25.0, 465.98: 26.0, 468.62: 27.0, 471.26: 28.0, 473.9: 29.0, 476.54: 30.0, 479.18: 31.0, 481.83: 32.0, 484.47: 33.0, 487.12: 34.0, 489.77: 35.0, 492.42: 36.0, 495.07: 37.0, 497.72: 38.0, 500.37: 39.0, 503.02: 40.0, 505.67: 41.0, 508.32: 42.0, 510.98: 43.0, 513.63: 44.0, 516.29: 45.0, 518.95: 46.0, 521.61: 47.0, 524.27: 48.0, 526.93: 49.0, 529.59: 50.0, 532.25: 51.0, 534.91: 52.0, 537.57: 53.0, 540.24: 54.0, 542.91: 55.0, 545.57: 56.0, 548.24: 57.0, 550.91: 58.0, 553.58: 59.0, 556.25: 60.0, 558.92: 61.0, 561.59: 62.0, 564.26: 63.0, 566.94: 64.0, 569.61: 65.0, 572.29: 66.0, 574.96: 67.0, 577.64: 68.0, 580.32: 69.0, 583.0: 70.0, 585.68: 71.0, 588.36: 72.0, 591.04: 73.0, 593.73: 74.0, 596.41: 75.0, 599.1: 76.0, 601.78: 77.0, 604.47: 78.0, 607.16: 79.0, 609.85: 80.0, 612.53: 81.0, 615.23: 82.0, 617.92: 83.0, 620.61: 84.0, 623.3: 85.0, 626.0: 86.0, 628.69: 87.0, 631.39: 88.0, 634.08: 89.0, 636.78: 90.0, 639.48: 91.0, 642.18: 92.0, 644.88: 93.0, 647.58: 94.0, 650.29: 95.0, 652.99: 96.0, 655.69: 97.0, 658.4: 98.0, 661.1: 99.0, 663.81: 100.0, 666.52: 101.0, 669.23: 102.0, 671.94: 103.0, 674.65: 104.0, 677.36: 105.0, 680.07: 106.0, 682.79: 107.0, 685.5: 108.0, 688.22: 109.0, 690.93: 110.0, 693.65: 111.0, 696.37: 112.0, 699.09: 113.0, 701.81: 114.0, 704.53: 115.0, 707.25: 116.0, 709.97: 117.0, 712.7: 118.0, 715.42: 119.0, 718.15: 120.0, 720.87: 121.0, 723.6: 122.0, 726.33: 123.0, 729.06: 124.0, 731.79: 125.0, 734.52: 126.0, 737.25: 127.0, 739.98: 128.0, 742.72: 129.0, 745.45: 130.0, 748.19: 131.0, 750.93: 132.0, 753.66: 133.0, 756.4: 134.0, 759.14: 135.0, 761.88: 136.0, 764.62: 137.0, 767.36: 138.0, 770.11: 139.0, 772.85: 140.0, 775.6: 141.0, 778.34: 142.0, 781.09: 143.0, 783.84: 144.0, 786.58: 145.0, 789.33: 146.0, 792.08: 147.0, 794.84: 148.0, 797.59: 149.0, 800.34: 150.0, 803.1: 151.0, 805.85: 152.0, 808.61: 153.0, 811.36: 154.0, 814.12: 155.0, 816.88: 156.0, 819.64: 157.0, 822.4: 158.0, 825.16: 159.0, 827.92: 160.0, 830.69: 161.0, 833.45: 162.0, 836.22: 163.0, 838.98: 164.0, 841.75: 165.0, 844.52: 166.0, 847.29: 167.0, 850.06: 168.0, 852.83: 169.0, 855.6: 170.0, 858.37: 171.0, 861.14: 172.0, 863.92: 173.0, 866.69: 174.0, 869.47: 175.0, 872.25: 176.0, 875.03: 177.0, 877.8: 178.0, 880.58: 179.0, 883.37: 180.0, 886.15: 181.0, 888.93: 182.0, 891.71: 183.0, 894.5: 184.0, 897.28: 185.0, 900.07: 186.0, 902.86: 187.0, 905.64: 188.0, 908.43: 189.0, 911.22: 190.0, 914.02: 191.0, 916.81: 192.0, 919.6: 193.0, 922.39: 194.0, 925.19: 195.0, 927.98: 196.0, 930.78: 197.0, 933.58: 198.0, 936.38: 199.0, 939.18: 200.0, 941.98: 201.0, 944.78: 202.0, 947.58: 203.0, 950.38: 204.0, 953.19: 205.0, 955.99: 206.0, 958.8: 207.0, 961.6: 208.0, 964.41: 209.0, 967.22: 210.0, 970.03: 211.0, 972.84: 212.0, 975.65: 213.0, 978.46: 214.0, 981.27: 215.0, 984.09: 216.0, 986.9: 217.0, 989.72: 218.0, 992.54: 219.0, 995.35: 220.0, 998.17: 221.0, 1000.99: 222.0, 1003.81: 223.0}\n",
    "\n",
    "def click_and_save_point(event, x, y, flags, param):\n",
    "    # grab references to the global variables\n",
    "    global points, image\n",
    "\n",
    "    # if the left mouse button was clicked, record the point\n",
    "    # (x, y) coordinates\n",
    "    if event == cv2.EVENT_LBUTTONDOWN:\n",
    "        point = (x, y)\n",
    "        points.append(point)\n",
    "\n",
    "        # draw a circle at the point of interest\n",
    "        cv2.circle(image, point, 4, (0, 255, 0), -1)\n",
    "        cv2.imshow(\"image\", image)\n",
    "\n",
    "exit_loop = False\n",
    "\n",
    "for file_path in npy_files:\n",
    "    \n",
    "    if exit_loop:\n",
    "        break\n",
    "    \n",
    "    # load the image, clone it, and setup the mouse callback function\n",
    "    points = []\n",
    "\n",
    "    data = np.load(file_path)\n",
    "    image = rgb2gray(data[:,:,[50,80,150]])\n",
    "    image = ((image - image.min()) * (255 / (image.max() - image.min()))).astype(np.uint8)\n",
    "\n",
    "    # Convert color from BGR to RGB\n",
    "    image = cv2.cvtColor(image, cv2.COLOR_BGR2RGB)\n",
    "\n",
    "    clone = image.copy()\n",
    "    cv2.namedWindow(\"image\")\n",
    "    cv2.setMouseCallback(\"image\", click_and_save_point)\n",
    "\n",
    "    # keep looping until the 'q' key is pressed\n",
    "    while True:\n",
    "        # display the image and wait for a keypress\n",
    "        cv2.imshow(\"image\", image)\n",
    "        key = cv2.waitKey(1) & 0xFF\n",
    "\n",
    "        # if the 'r' key is pressed, reset the points\n",
    "        if key == ord(\"r\"):\n",
    "            image = clone.copy()\n",
    "            points = []\n",
    "\n",
    "        # if the 'c' key is pressed, continue to the next image\n",
    "        elif key == ord(\"c\"):\n",
    "            break\n",
    "        \n",
    "        # press esc to stop the program\n",
    "        elif key == 27:\n",
    "            exit_loop = True\n",
    "            break\n",
    "\n",
    "    # close all open windows\n",
    "    cv2.destroyAllWindows()\n",
    "\n",
    "    # write points to file\n",
    "    # use os.path to get the base name of the file and replace the extension with .csv\n",
    "    output_file_path = os.path.join(os.path.dirname(file_path), 'point_' + os.path.basename(file_path))\n",
    "    output_file_path = os.path.splitext(output_file_path)[0] + '.csv'\n",
    "    with open(output_file_path, 'w', newline='') as f:\n",
    "        writer = csv.writer(f)\n",
    "        writer.writerow(nm_mapping.keys())\n",
    "        for point in points:\n",
    "            # Extract the spectral signature from the 3D data array at the selected point\n",
    "            spectral_signature = data[point[1], point[0], :]\n",
    "            writer.writerow(spectral_signature)\n",
    "            \n",
    "\n"
   ]
  },
  {
   "cell_type": "code",
   "execution_count": null,
   "id": "cc52c73b",
   "metadata": {},
   "outputs": [],
   "source": []
  }
 ],
 "metadata": {
  "kernelspec": {
   "display_name": ".venv",
   "language": "python",
   "name": "python3"
  },
  "language_info": {
   "codemirror_mode": {
    "name": "ipython",
    "version": 3
   },
   "file_extension": ".py",
   "mimetype": "text/x-python",
   "name": "python",
   "nbconvert_exporter": "python",
   "pygments_lexer": "ipython3",
   "version": "3.12.10"
  }
 },
 "nbformat": 4,
 "nbformat_minor": 5
}
